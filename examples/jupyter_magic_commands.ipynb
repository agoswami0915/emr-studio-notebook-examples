{
 "cells": [
  {
   "cell_type": "markdown",
   "id": "1128013e",
   "metadata": {},
   "source": [
    "# Using Jupyter Magics on EMR Studio\n",
    "\n",
    "\n",
    "#### Topics covered in this example:\n",
    "\n",
    "* Built-in Magics\n",
    "* EMR Magics\n",
    "    * Importing local python files or package\n",
    "    * Downloading a file\n"
   ]
  },
  {
   "cell_type": "markdown",
   "id": "085e2d51",
   "metadata": {},
   "source": [
    "***\n",
    "\n",
    "## Prerequisites\n",
    "<div class=\"alert alert-block alert-info\">\n",
    "<b>NOTE :</b> In order to execute this notebook successfully as is, please ensure the following prerequisites are completed.</div>\n",
    "\n",
    "* The EMR cluster attached to this notebook should have the `Spark` application installed.\n",
    "* This notebook uses the `Python3` kernel.\n",
    "***\n",
    "\n"
   ]
  },
  {
   "cell_type": "markdown",
   "id": "0e0e244a",
   "metadata": {},
   "source": [
    "## Built-in Magics\n",
    "\n",
    "Jupyter magics act as convenient functions that accomplishes something useful and saves the effort of writing Python code instead. There are useful buiilt-in magic functions and some are unique to EMR Studio, we document them here: https://docs.aws.amazon.com/emr/latest/ManagementGuide/emr-studio-magics.html\n",
    "\n",
    "The most important magic commanda are:\n",
    "\n",
    "1. `%%configure` - allows you to change the session properties of a Spark session in Spark Kernels:\n",
    "\n",
    "```\n",
    "%%configure -f\n",
    "{ \"conf\": {\n",
    "     spark.submit.deployMode\":\"cluster\"\n",
    "     }\n",
    "}\n",
    "```\n",
    "\n",
    "2. `%%display` - is only available in allows you to display the rows in a Spark dataframe in addition to providing the ability to visualize the rows in a chart.\n",
    "\n",
    "```\n",
    "%%display df\n",
    "```\n",
    "\n",
    "Let's see the `%%display` magic in action:"
   ]
  },
  {
   "cell_type": "code",
   "execution_count": null,
   "id": "f44da304",
   "metadata": {},
   "outputs": [],
   "source": [
    "data = [{\n",
    "    \"Category\": 'A',\n",
    "    \"ID\": 1,\n",
    "    \"Value\": 121.44,\n",
    "    \"Truth\": True\n",
    "}, {\n",
    "    \"Category\": 'B',\n",
    "    \"ID\": 2,\n",
    "    \"Value\": 300.01,\n",
    "    \"Truth\": False\n",
    "}, {\n",
    "    \"Category\": 'C',\n",
    "    \"ID\": 3,\n",
    "    \"Value\": 10.99,\n",
    "    \"Truth\": None\n",
    "}, {\n",
    "    \"Category\": 'E',\n",
    "    \"ID\": 4,\n",
    "    \"Value\": 33.87,\n",
    "    \"Truth\": True\n",
    "}]\n",
    "\n",
    "df = spark.createDataFrame(data)"
   ]
  },
  {
   "cell_type": "code",
   "execution_count": null,
   "id": "7fb11127",
   "metadata": {},
   "outputs": [],
   "source": [
    "%%display\n",
    "df"
   ]
  },
  {
   "cell_type": "markdown",
   "id": "3349e6a8",
   "metadata": {},
   "source": [
    "## EMR Magics\n",
    "\n",
    "The EMR magics package available here (https://pypi.org/simple emr-notebooks-magics) offers the following magics that can be used on Python3 kernels as well as Spark Kernels on EMR Studio. The two magics we discuss in this notebook are:\n",
    "\n",
    "* mount_workspace_dir - allows you to mount an EMR Studio Workspace directory to an EMR Cluster.\n",
    "* generate_s3_download_url - alows you to generate a temporary signed download URL for an S3 object.\n",
    "\n",
    "Let's install the EMR-notebooks-magics package on your EMR Cluster:\n",
    "\n",
    "```\n",
    "%pip install -i https://test.pypi.org/simple/ --extra-index-url https://pypi.org/simple emr-notebooks-magics\n",
    "```"
   ]
  },
  {
   "cell_type": "markdown",
   "id": "436a90e6",
   "metadata": {},
   "source": [
    "Let's mount a Workpsace directory on to the EMR cluster:"
   ]
  },
  {
   "cell_type": "code",
   "execution_count": null,
   "id": "af0c1e47",
   "metadata": {},
   "outputs": [],
   "source": [
    "%mount_workspace_dir <Workspace_Directory>"
   ]
  },
  {
   "cell_type": "markdown",
   "id": "fabba330",
   "metadata": {},
   "source": [
    "Note that your current directory changes to the mounted Workspace directory and you can list the contents in it."
   ]
  },
  {
   "cell_type": "code",
   "execution_count": null,
   "id": "1e652f41",
   "metadata": {},
   "outputs": [],
   "source": [
    "%%sh\n",
    "pwd"
   ]
  },
  {
   "cell_type": "code",
   "execution_count": null,
   "id": "1aacb614",
   "metadata": {},
   "outputs": [],
   "source": [
    "%%sh\n",
    "ls"
   ]
  },
  {
   "cell_type": "markdown",
   "id": "d32f589a",
   "metadata": {},
   "source": [
    "### Importing Local Python Files or Packages.\n",
    "\n",
    "\n"
   ]
  },
  {
   "cell_type": "markdown",
   "id": "7fb54378",
   "metadata": {},
   "source": [
    "You can now execute local python files and packages."
   ]
  },
  {
   "cell_type": "code",
   "execution_count": null,
   "id": "d101315c",
   "metadata": {},
   "outputs": [],
   "source": [
    "%run -i  '<local_python_file.py>''"
   ]
  },
  {
   "cell_type": "markdown",
   "id": "7cf27324",
   "metadata": {},
   "source": [
    "## Downloading a File.\n",
    "\n",
    "Sometimes we need to download a file to our local desktop for e.g. to further analyze some data in Excel. Let's now see the `generate_s3_download_url` magic in action that allows us to do just that. We save the dataframe as a Parquet file in an S3 bucket."
   ]
  },
  {
   "cell_type": "code",
   "execution_count": null,
   "id": "fbc6fd9c",
   "metadata": {},
   "outputs": [],
   "source": [
    "df = _\n",
    "s3_url = 's3://<bucket>/<prefix>/<filename>.parquet.gzip'\n",
    "df.to_parquet(s3_url, compression='gzip')"
   ]
  },
  {
   "cell_type": "code",
   "execution_count": null,
   "id": "f6db5dc6",
   "metadata": {},
   "outputs": [],
   "source": [
    "%%sh\n",
    "aws s3 ls s3://<bucket>/<prefix>/<filename>.parquet.gzip"
   ]
  },
  {
   "cell_type": "markdown",
   "id": "2c108142",
   "metadata": {},
   "source": [
    "We can now generate a download URL for this file. Note that the url is a temporary one and the command provides options on how long the url should be available."
   ]
  },
  {
   "cell_type": "code",
   "execution_count": null,
   "id": "10478bc5",
   "metadata": {},
   "outputs": [],
   "source": [
    "%generate_s3_download_url s3://<bucket>/<prefix>/<filename>.parquet.gzip"
   ]
  },
  {
   "cell_type": "markdown",
   "id": "d530f708",
   "metadata": {},
   "source": [
    "and then view the link for the output."
   ]
  }
 ],
 "metadata": {
  "kernelspec": {
   "display_name": "Python 3",
   "language": "python",
   "name": "python3"
  },
  "language_info": {
   "codemirror_mode": {
    "name": "ipython",
    "version": 3
   },
   "file_extension": ".py",
   "mimetype": "text/x-python",
   "name": "python",
   "nbconvert_exporter": "python",
   "pygments_lexer": "ipython3",
   "version": "3.7.4"
  }
 },
 "nbformat": 4,
 "nbformat_minor": 5
}
